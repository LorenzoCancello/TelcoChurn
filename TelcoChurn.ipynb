{
 "cells": [
  {
   "cell_type": "code",
   "execution_count": 1,
   "metadata": {},
   "outputs": [],
   "source": [
    "import sklearn\n",
    "import pandas as pd\n",
    "from sklearn import metrics\n",
    "from sklearn.model_selection import train_test_split\n",
    "from sklearn.ensemble import RandomForestClassifier\n",
    "from sklearn.preprocessing import LabelEncoder"
   ]
  },
  {
   "cell_type": "code",
   "execution_count": 2,
   "metadata": {},
   "outputs": [],
   "source": [
    "df = pd.read_csv('WA_Fn-UseC_-Telco-Customer-Churn.train.csv')\n",
    "\n",
    "df2 = df.copy()\n",
    "for col in df2.columns.values:\n",
    "    df2[col] = LabelEncoder().fit_transform(df2[col])\n",
    "\n",
    "# rimuovo i valori mancanti\n",
    "df2 = df2.dropna()\n",
    "\n",
    "train, test = train_test_split(df2)\n",
    "\n",
    "features = ['customerID', 'SeniorCitizen', 'Dependents', 'tenure', 'PhoneService', 'MultipleLines',\n",
    "       'InternetService', 'OnlineSecurity', 'OnlineBackup', 'DeviceProtection',\n",
    "       'TechSupport', 'StreamingTV', 'StreamingMovies', 'Contract',\n",
    "       'PaperlessBilling', 'PaymentMethod', 'MonthlyCharges', 'TotalCharges']\n",
    "X=train[features]\n",
    "Y=train['Churn']\n",
    "X_test=test[features]\n",
    "Y_test=test['Churn']"
   ]
  },
  {
   "cell_type": "code",
   "execution_count": 3,
   "metadata": {},
   "outputs": [
    {
     "data": {
      "text/plain": [
       "RandomForestClassifier(random_state=50)"
      ]
     },
     "execution_count": 3,
     "metadata": {},
     "output_type": "execute_result"
    }
   ],
   "source": [
    "# Specify Model\n",
    "model = RandomForestClassifier(random_state = 50) \n",
    "# RandomForest è un algoritmo che (a differenza del DecisionTree) genera molteplici alberi. \n",
    "# Ogni albero classifica un oggetto basandosi sui suoi attributi ed esprimerà quindi un voto per quella classe. \n",
    "# Nel caso del RandomForestClassifier si prenderà quindi in considerazione la classificazione che ha ricevuto più voti fra tutti gli altri alberi nella foresta.\n",
    "\n",
    "# Fit Model\n",
    "model.fit(X, Y)"
   ]
  },
  {
   "cell_type": "code",
   "execution_count": 4,
   "metadata": {},
   "outputs": [
    {
     "name": "stdout",
     "output_type": "stream",
     "text": [
      "Accuratezza train: 1.0\n",
      "Accuratezza test: 0.8055358410220014\n"
     ]
    }
   ],
   "source": [
    "train_predictions = model.predict(X)\n",
    "train_acc=metrics.accuracy_score(Y,train_predictions)\n",
    "print('Accuratezza train: %s'  % train_acc)\n",
    "\n",
    "test_predictions = model.predict(X_test)\n",
    "test_acc=metrics.accuracy_score(Y_test,test_predictions)\n",
    "print('Accuratezza test: %s'  % test_acc)"
   ]
  },
  {
   "cell_type": "code",
   "execution_count": 5,
   "metadata": {},
   "outputs": [
    {
     "name": "stdout",
     "output_type": "stream",
     "text": [
      "80%\n"
     ]
    }
   ],
   "source": [
    "print('%s%%' % int(test_acc*100))"
   ]
  }
 ],
 "metadata": {
  "kernelspec": {
   "display_name": "Python 3",
   "language": "python",
   "name": "python3"
  },
  "language_info": {
   "codemirror_mode": {
    "name": "ipython",
    "version": 3
   },
   "file_extension": ".py",
   "mimetype": "text/x-python",
   "name": "python",
   "nbconvert_exporter": "python",
   "pygments_lexer": "ipython3",
   "version": "3.8.2"
  }
 },
 "nbformat": 4,
 "nbformat_minor": 4
}
